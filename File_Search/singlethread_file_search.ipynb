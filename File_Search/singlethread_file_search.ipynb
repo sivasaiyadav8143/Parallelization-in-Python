{
 "cells": [
  {
   "cell_type": "code",
   "execution_count": null,
   "id": "f4d3daf4",
   "metadata": {},
   "outputs": [],
   "source": [
    "import os\n",
    "from os.path import isdir, join\n",
    "from threading import Lock, Thread\n",
    "\n",
    "mutex = Lock()\n",
    "matches = []\n",
    "\n",
    "\n",
    "def file_search(root, filename):\n",
    "    print(\"Searching in:\", root)\n",
    "    for file in os.listdir(root):\n",
    "        full_path = join(root, file)\n",
    "        if filename in file:\n",
    "            matches.append(full_path)\n",
    "        if isdir(full_path):\n",
    "            file_search(full_path, filename)\n",
    "\n",
    "\n",
    "def main():\n",
    "    file_search(\"c:/tools\", \"README.md\")\n",
    "    for m in matches:\n",
    "        print(\"Matched:\", m)"
   ]
  }
 ],
 "metadata": {
  "kernelspec": {
   "display_name": "Python 3 (ipykernel)",
   "language": "python",
   "name": "python3"
  },
  "language_info": {
   "codemirror_mode": {
    "name": "ipython",
    "version": 3
   },
   "file_extension": ".py",
   "mimetype": "text/x-python",
   "name": "python",
   "nbconvert_exporter": "python",
   "pygments_lexer": "ipython3",
   "version": "3.9.7"
  }
 },
 "nbformat": 4,
 "nbformat_minor": 5
}
