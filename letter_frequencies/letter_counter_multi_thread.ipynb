{
 "cells": [
  {
   "cell_type": "code",
   "execution_count": 3,
   "id": "f2016b45",
   "metadata": {},
   "outputs": [],
   "source": [
    "import json\n",
    "import urllib.request\n",
    "import time\n",
    "import string\n",
    "from threading import Thread,Lock"
   ]
  },
  {
   "cell_type": "code",
   "execution_count": 4,
   "id": "6f730a63",
   "metadata": {},
   "outputs": [],
   "source": [
    "finished_count = 0\n",
    "\n",
    "def count_letters(url,freq,mutex):\n",
    "    res = urllib.request.urlopen(url)\n",
    "    text = str(res.read())\n",
    "    mutex.acquire()\n",
    "    for l in text:\n",
    "        letter = l.lower()\n",
    "        if letter in freq:\n",
    "            #mutex.acquire()\n",
    "            freq[letter] += 1\n",
    "            #mutex.release()\n",
    "    global finished_count\n",
    "    finished_count += 1\n",
    "    mutex.release()\n",
    "\n",
    "def main():\n",
    "    freq = {}\n",
    "    mutex = Lock()\n",
    "    for i in string.ascii_lowercase:\n",
    "        freq[i] = 0\n",
    "    start = time.time()\n",
    "    for j in range(1000,1005):\n",
    "        Thread(target=count_letters,args=(f\"https://www.rfc-editor.org/rfc/rfc{j}.txt\", freq,mutex)).start()\n",
    "        #count_letters(f\"https://www.rfc-editor.org/rfc/rfc{j}.txt\", freq)\n",
    "    while finished_count < 5:\n",
    "        time.sleep(0.5)\n",
    "    end = time.time()\n",
    "    print(json.dumps(freq,indent=4))\n",
    "    print('Time Taken', end - start)"
   ]
  },
  {
   "cell_type": "code",
   "execution_count": 5,
   "id": "4c888c31",
   "metadata": {},
   "outputs": [
    {
     "name": "stdout",
     "output_type": "stream",
     "text": [
      "{\n",
      "    \"a\": 26537,\n",
      "    \"b\": 5361,\n",
      "    \"c\": 15465,\n",
      "    \"d\": 13393,\n",
      "    \"e\": 47606,\n",
      "    \"f\": 8699,\n",
      "    \"g\": 6587,\n",
      "    \"h\": 11114,\n",
      "    \"i\": 25649,\n",
      "    \"j\": 540,\n",
      "    \"k\": 2394,\n",
      "    \"l\": 11789,\n",
      "    \"m\": 11227,\n",
      "    \"n\": 47425,\n",
      "    \"o\": 29063,\n",
      "    \"p\": 11384,\n",
      "    \"q\": 1236,\n",
      "    \"r\": 24951,\n",
      "    \"s\": 28742,\n",
      "    \"t\": 34381,\n",
      "    \"u\": 9161,\n",
      "    \"v\": 3181,\n",
      "    \"w\": 3788,\n",
      "    \"x\": 1429,\n",
      "    \"y\": 3961,\n",
      "    \"z\": 258\n",
      "}\n",
      "Time Taken 7.14059853553772\n"
     ]
    }
   ],
   "source": [
    "main()"
   ]
  },
  {
   "cell_type": "code",
   "execution_count": null,
   "id": "25d3f73e",
   "metadata": {},
   "outputs": [],
   "source": [
    "# finished_count"
   ]
  },
  {
   "cell_type": "code",
   "execution_count": null,
   "id": "dce6048a",
   "metadata": {},
   "outputs": [],
   "source": []
  }
 ],
 "metadata": {
  "kernelspec": {
   "display_name": "Python 3 (ipykernel)",
   "language": "python",
   "name": "python3"
  },
  "language_info": {
   "codemirror_mode": {
    "name": "ipython",
    "version": 3
   },
   "file_extension": ".py",
   "mimetype": "text/x-python",
   "name": "python",
   "nbconvert_exporter": "python",
   "pygments_lexer": "ipython3",
   "version": "3.9.7"
  }
 },
 "nbformat": 4,
 "nbformat_minor": 5
}
