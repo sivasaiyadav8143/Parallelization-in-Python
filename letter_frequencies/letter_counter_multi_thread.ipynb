{
 "cells": [
  {
   "cell_type": "code",
   "execution_count": 1,
   "id": "151cae7b",
   "metadata": {},
   "outputs": [],
   "source": [
    "import json\n",
    "import urllib.request\n",
    "import time\n",
    "import string\n",
    "from threading import Thread"
   ]
  },
  {
   "cell_type": "code",
   "execution_count": 4,
   "id": "02eaf34a",
   "metadata": {},
   "outputs": [],
   "source": [
    "finished_count = 0\n",
    "\n",
    "def count_letters(url,freq):\n",
    "    res = urllib.request.urlopen(url)\n",
    "    text = str(res.read())\n",
    "    for l in text:\n",
    "        letter = l.lower()\n",
    "        if letter in freq:\n",
    "            freq[letter] += 1\n",
    "    global finished_count\n",
    "    finished_count += 1\n",
    "\n",
    "def main():\n",
    "    freq = {}\n",
    "    for i in string.ascii_lowercase:\n",
    "        freq[i] = 0\n",
    "    start = time.time()\n",
    "    for j in range(1000,1005):\n",
    "        Thread(target=count_letters,args=(f\"https://www.rfc-editor.org/rfc/rfc{j}.txt\", freq)).start()\n",
    "        #count_letters(f\"https://www.rfc-editor.org/rfc/rfc{j}.txt\", freq)\n",
    "    while finished_count < 5:\n",
    "        time.sleep(0.5)\n",
    "    end = time.time()\n",
    "    print(json.dumps(freq,indent=4))\n",
    "    print('Time Taken', end - start)"
   ]
  },
  {
   "cell_type": "code",
   "execution_count": null,
   "id": "14d44b0c",
   "metadata": {},
   "outputs": [],
   "source": [
    "main()"
   ]
  },
  {
   "cell_type": "code",
   "execution_count": null,
   "id": "18a76082",
   "metadata": {},
   "outputs": [],
   "source": []
  }
 ],
 "metadata": {
  "kernelspec": {
   "display_name": "Python 3 (ipykernel)",
   "language": "python",
   "name": "python3"
  },
  "language_info": {
   "codemirror_mode": {
    "name": "ipython",
    "version": 3
   },
   "file_extension": ".py",
   "mimetype": "text/x-python",
   "name": "python",
   "nbconvert_exporter": "python",
   "pygments_lexer": "ipython3",
   "version": "3.9.7"
  }
 },
 "nbformat": 4,
 "nbformat_minor": 5
}
