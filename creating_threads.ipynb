{
 "cells": [
  {
   "cell_type": "code",
   "execution_count": 4,
   "id": "fb4c4e30",
   "metadata": {},
   "outputs": [],
   "source": [
    "import time\n",
    "from threading import Thread"
   ]
  },
  {
   "cell_type": "code",
   "execution_count": 35,
   "id": "246c2a45",
   "metadata": {},
   "outputs": [],
   "source": [
    "def do_work():\n",
    "    print('Start Working')\n",
    "    time.sleep(5)\n",
    "    print('End Working')"
   ]
  },
  {
   "cell_type": "markdown",
   "id": "8b535b1e",
   "metadata": {},
   "source": [
    "# Without thread"
   ]
  },
  {
   "cell_type": "code",
   "execution_count": 36,
   "id": "6ee5e9ab",
   "metadata": {},
   "outputs": [
    {
     "name": "stdout",
     "output_type": "stream",
     "text": [
      "Start Working\n",
      "End Working\n",
      "Start Working\n",
      "End Working\n",
      "Start Working\n",
      "End Working\n",
      "Start Working\n",
      "End Working\n",
      "Start Working\n",
      "End Working\n"
     ]
    }
   ],
   "source": [
    "for _ in range(5):\n",
    "    do_work()"
   ]
  },
  {
   "cell_type": "markdown",
   "id": "71284709",
   "metadata": {},
   "source": [
    "# With threads"
   ]
  },
  {
   "cell_type": "code",
   "execution_count": 37,
   "id": "ea5c9b7d",
   "metadata": {},
   "outputs": [
    {
     "name": "stdout",
     "output_type": "stream",
     "text": [
      "Start Working\n",
      "Start Working\n",
      "Start Working\n",
      "Start Working\n",
      "Start Working\n",
      "End WorkingEnd Working\n",
      "\n",
      "End WorkingEnd Working\n",
      "\n",
      "End Working\n"
     ]
    }
   ],
   "source": [
    "for _ in range(5):\n",
    "    t = Thread(target=do_work,args=())\n",
    "    t.start()"
   ]
  },
  {
   "cell_type": "raw",
   "id": "3540c0c6",
   "metadata": {},
   "source": [
    "1.Tasks that spend much of their time waiting for external events are generally good candidates for threading.\n",
    "2.Threads run one at a time."
   ]
  },
  {
   "cell_type": "code",
   "execution_count": null,
   "id": "aa395c28",
   "metadata": {},
   "outputs": [],
   "source": []
  }
 ],
 "metadata": {
  "kernelspec": {
   "display_name": "Python 3 (ipykernel)",
   "language": "python",
   "name": "python3"
  },
  "language_info": {
   "codemirror_mode": {
    "name": "ipython",
    "version": 3
   },
   "file_extension": ".py",
   "mimetype": "text/x-python",
   "name": "python",
   "nbconvert_exporter": "python",
   "pygments_lexer": "ipython3",
   "version": "3.9.7"
  }
 },
 "nbformat": 4,
 "nbformat_minor": 5
}
